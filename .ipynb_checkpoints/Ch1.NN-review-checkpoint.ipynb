{
 "cells": [
  {
   "cell_type": "code",
   "execution_count": 2,
   "metadata": {},
   "outputs": [],
   "source": [
    "import numpy as np"
   ]
  },
  {
   "cell_type": "code",
   "execution_count": null,
   "metadata": {},
   "outputs": [],
   "source": [
    "w1 = np.random.randn(2, 4)\n",
    "b1 = np.random.randn(4)\n",
    "\n",
    "x = np.random.randn(10, 2)\n",
    "h = np.matmul(x, w1) + b1"
   ]
  },
  {
   "cell_type": "markdown",
   "metadata": {},
   "source": [
    "## 계층으로 만들기"
   ]
  },
  {
   "cell_type": "code",
   "execution_count": 3,
   "metadata": {},
   "outputs": [],
   "source": [
    "class Sigmoid :\n",
    "    def __init__(self) :\n",
    "        self.params = []\n",
    "        \n",
    "    def forward(self, x) :\n",
    "        return 1 / (1 + np.exp(-x))\n",
    "\n",
    "    \n",
    "class Affine :\n",
    "    def __init__(self, W, b) :\n",
    "        self.params = [W, b]\n",
    "        \n",
    "    def forward(self, x) :\n",
    "        W, b = self.params\n",
    "        out = np.matmul(x, W)+ b\n",
    "        return out"
   ]
  },
  {
   "cell_type": "code",
   "execution_count": 10,
   "metadata": {},
   "outputs": [],
   "source": [
    "class TwoLayerNet :\n",
    "    def __init__(self, input_size, hidden_size, output_size) :\n",
    "        I, H, O = input_size, hidden_size, output_size\n",
    "        \n",
    "        W1 = np.random.randn(I, H)\n",
    "        b1 = np.random.randn(H)\n",
    "        W2 = np.random.randn(H, O)\n",
    "        b2 = np.random.randn(O)\n",
    "        \n",
    "        self.layers = [\n",
    "            Affine(W1, b1),\n",
    "            Sigmoid(),\n",
    "            Affine(W2, b2)\n",
    "        ]\n",
    "        \n",
    "        self.params = []\n",
    "        \n",
    "        for layer in self.layers :\n",
    "            self.params += layer.params\n",
    "        \n",
    "    def predict(self, x) :\n",
    "        for layer in self.layers :\n",
    "            x = layer.forward(x)\n",
    "        return x"
   ]
  },
  {
   "cell_type": "code",
   "execution_count": 11,
   "metadata": {},
   "outputs": [
    {
     "data": {
      "text/plain": [
       "array([[-0.04411292,  1.37784706, -0.9409082 ],\n",
       "       [ 0.37810317,  1.16930838, -0.4991253 ],\n",
       "       [ 0.14480866,  0.98764384,  0.23725392],\n",
       "       [ 0.28351659,  1.25484844, -0.7991732 ],\n",
       "       [ 0.43303004,  1.08457562, -0.18753145],\n",
       "       [ 0.29096472,  1.20865834, -0.8157494 ],\n",
       "       [ 0.18198885,  1.30350319, -0.9011623 ],\n",
       "       [ 0.44016468,  1.13558073, -0.51785821],\n",
       "       [-0.16376718,  1.30977163, -0.66596243],\n",
       "       [ 0.30055334,  1.10461868, -0.46647481]])"
      ]
     },
     "execution_count": 11,
     "metadata": {},
     "output_type": "execute_result"
    }
   ],
   "source": [
    "#input value\n",
    "x = np.random.randn(10, 2)\n",
    "\n",
    "model = TwoLayerNet(2, 4, 3)\n",
    "s = model.predict(x)\n",
    "\n",
    "s"
   ]
  },
  {
   "cell_type": "markdown",
   "metadata": {},
   "source": [
    "## Repeat node\n",
    "\n",
    "- 복제 노드, (D, 1) -> node -> (D, N)"
   ]
  },
  {
   "cell_type": "code",
   "execution_count": 4,
   "metadata": {},
   "outputs": [
    {
     "data": {
      "text/plain": [
       "(array([ 0.92013951, -1.1807143 ,  0.0422098 , -0.66389058, -2.43583411,\n",
       "         0.19480744,  0.57837282, -0.64826315, -0.84184005,  1.03847774]),\n",
       " array([ 0.92013951,  0.92013951,  0.92013951,  0.92013951,  0.92013951,\n",
       "         0.92013951,  0.92013951, -1.1807143 , -1.1807143 , -1.1807143 ,\n",
       "        -1.1807143 , -1.1807143 , -1.1807143 , -1.1807143 ,  0.0422098 ,\n",
       "         0.0422098 ,  0.0422098 ,  0.0422098 ,  0.0422098 ,  0.0422098 ,\n",
       "         0.0422098 , -0.66389058, -0.66389058, -0.66389058, -0.66389058,\n",
       "        -0.66389058, -0.66389058, -0.66389058, -2.43583411, -2.43583411,\n",
       "        -2.43583411, -2.43583411, -2.43583411, -2.43583411, -2.43583411,\n",
       "         0.19480744,  0.19480744,  0.19480744,  0.19480744,  0.19480744,\n",
       "         0.19480744,  0.19480744,  0.57837282,  0.57837282,  0.57837282,\n",
       "         0.57837282,  0.57837282,  0.57837282,  0.57837282, -0.64826315,\n",
       "        -0.64826315, -0.64826315, -0.64826315, -0.64826315, -0.64826315,\n",
       "        -0.64826315, -0.84184005, -0.84184005, -0.84184005, -0.84184005,\n",
       "        -0.84184005, -0.84184005, -0.84184005,  1.03847774,  1.03847774,\n",
       "         1.03847774,  1.03847774,  1.03847774,  1.03847774,  1.03847774]))"
      ]
     },
     "execution_count": 4,
     "metadata": {},
     "output_type": "execute_result"
    }
   ],
   "source": [
    "D, N = 8, 7\n",
    "\n",
    "x = np.random.randn(10)\n",
    "y = np.repeat(x, N, axis=0)\n",
    "\n",
    "x, y"
   ]
  },
  {
   "cell_type": "code",
   "execution_count": 6,
   "metadata": {},
   "outputs": [
    {
     "data": {
      "text/plain": [
       "array([[ 2.4977484 ,  1.09165039,  1.43433324,  3.55991852, -0.28218988,\n",
       "        -1.86933281, -4.31023823,  7.2361679 ]])"
      ]
     },
     "execution_count": 6,
     "metadata": {},
     "output_type": "execute_result"
    }
   ],
   "source": [
    "dy = np.random.randn(N, D)\n",
    "\n",
    "dx = np.sum(dy, axis = 0, keepdims = True)\n",
    "\n",
    "dx"
   ]
  },
  {
   "cell_type": "markdown",
   "metadata": {},
   "source": [
    "## Sum node\n",
    "- np.random.randn(N, D)\n",
    "- forward : np.sum\n",
    "- backward : np.repeat 함수를 통해 구현 가능"
   ]
  },
  {
   "cell_type": "markdown",
   "metadata": {},
   "source": [
    "## MatMul 노드\n",
    "- y = x*W 의 연산을 수행하는 노드\n",
    "- dy / dx = W\n",
    "- 전체 loss function : L\n",
    "- $$ \\cfrac{dL}{dx} = \\cfrac{dL}{dy} * W^t $$\n",
    "- $$ \\cfrac{dL}{dw} = x^t * \\cfrac{dL}{dy} $$"
   ]
  },
  {
   "cell_type": "code",
   "execution_count": 7,
   "metadata": {},
   "outputs": [],
   "source": [
    "class MatMul :\n",
    "    def __init__(self, W) :\n",
    "        self.params = [W]\n",
    "        self.grads = [np.zeros_like(W)]\n",
    "        \n",
    "    def forward(self, x) :\n",
    "        W,  = self.params\n",
    "        out = np.matmul(x, W)\n",
    "        self.x = x\n",
    "        \n",
    "        return out\n",
    "    \n",
    "    def backward(self, dout) :\n",
    "        W,  = self.params\n",
    "        dx = np.matmul(dout, W, T)\n",
    "        dW = np.matmul(self.x.T, dout)\n",
    "        # ... 은 깊은 복사를 위한 생략 기호\n",
    "        self.grads[0][...] = dW\n",
    "        \n",
    "        return dx"
   ]
  },
  {
   "cell_type": "markdown",
   "metadata": {},
   "source": [
    "## 기울기 도출과 역전파 구현\n",
    "- $$ y = \\cfrac{1}{1+(-x)^e} $$"
   ]
  },
  {
   "cell_type": "code",
   "execution_count": 8,
   "metadata": {},
   "outputs": [],
   "source": [
    "class Sigmoid :\n",
    "    def __init__(self) :\n",
    "        self.params, self.grads = [], []\n",
    "        self.out = None\n",
    "        \n",
    "    def forward(self, x) :\n",
    "        out = 1 / (1 + np.exp(-x))\n",
    "        self.out = out\n",
    "        \n",
    "        return out\n",
    "    \n",
    "    def backward(self, dout) :\n",
    "        dx = dout * (1.0 - self.out) * self.out\n",
    "        return dx"
   ]
  },
  {
   "cell_type": "markdown",
   "metadata": {},
   "source": [
    "## 가중치 갱신"
   ]
  },
  {
   "cell_type": "code",
   "execution_count": 9,
   "metadata": {},
   "outputs": [],
   "source": [
    "class SGD :\n",
    "    def __init__ (self, lr = 0.01) :\n",
    "        self.lr = lr\n",
    "        \n",
    "    def update(self, params, grads) :\n",
    "        for i in range(len(params)) :\n",
    "            params[i] -= self.lr * grads[i]"
   ]
  },
  {
   "cell_type": "markdown",
   "metadata": {},
   "source": [
    "### train_loop"
   ]
  },
  {
   "cell_type": "code",
   "execution_count": 10,
   "metadata": {},
   "outputs": [
    {
     "ename": "NameError",
     "evalue": "name 'spiral' is not defined",
     "output_type": "error",
     "traceback": [
      "\u001b[1;31m---------------------------------------------------------------------------\u001b[0m",
      "\u001b[1;31mNameError\u001b[0m                                 Traceback (most recent call last)",
      "\u001b[1;32m<ipython-input-10-a905ce2b46eb>\u001b[0m in \u001b[0;36m<module>\u001b[1;34m()\u001b[0m\n\u001b[0;32m      4\u001b[0m \u001b[0mlearning_rate\u001b[0m \u001b[1;33m=\u001b[0m \u001b[1;36m1.0\u001b[0m\u001b[1;33m\u001b[0m\u001b[0m\n\u001b[0;32m      5\u001b[0m \u001b[1;33m\u001b[0m\u001b[0m\n\u001b[1;32m----> 6\u001b[1;33m \u001b[0mx\u001b[0m\u001b[1;33m,\u001b[0m \u001b[0mt\u001b[0m \u001b[1;33m=\u001b[0m \u001b[0mspiral\u001b[0m\u001b[1;33m.\u001b[0m\u001b[0mload_data\u001b[0m\u001b[1;33m(\u001b[0m\u001b[1;33m)\u001b[0m\u001b[1;33m\u001b[0m\u001b[0m\n\u001b[0m\u001b[0;32m      7\u001b[0m \u001b[0mmodel\u001b[0m \u001b[1;33m=\u001b[0m \u001b[0mTwoLayerNet\u001b[0m\u001b[1;33m(\u001b[0m\u001b[0minput_size\u001b[0m\u001b[1;33m=\u001b[0m\u001b[1;36m2\u001b[0m\u001b[1;33m,\u001b[0m \u001b[0mhidden_size\u001b[0m\u001b[1;33m=\u001b[0m\u001b[0mhidden_size\u001b[0m\u001b[1;33m,\u001b[0m \u001b[0moutput_size\u001b[0m\u001b[1;33m=\u001b[0m\u001b[1;36m3\u001b[0m\u001b[1;33m)\u001b[0m\u001b[1;33m\u001b[0m\u001b[0m\n\u001b[0;32m      8\u001b[0m \u001b[0moptimizer\u001b[0m \u001b[1;33m=\u001b[0m \u001b[0mSGD\u001b[0m\u001b[1;33m(\u001b[0m\u001b[0mlr\u001b[0m\u001b[1;33m=\u001b[0m\u001b[0mlearning_rate\u001b[0m\u001b[1;33m)\u001b[0m\u001b[1;33m\u001b[0m\u001b[0m\n",
      "\u001b[1;31mNameError\u001b[0m: name 'spiral' is not defined"
     ]
    }
   ],
   "source": [
    "max_epoch = 300\n",
    "batch_size = 30\n",
    "hidden_size = 10\n",
    "learning_rate = 1.0\n",
    "\n",
    "x, t = spiral.load_data()\n",
    "model = TwoLayerNet(input_size=2, hidden_size=hidden_size, output_size=3)\n",
    "optimizer = SGD(lr=learning_rate)\n",
    "\n",
    "data_size = len(x)\n",
    "max_iters = data_size // batch_size\n",
    "total_loss = 0\n",
    "loss_count = 0\n",
    "loss_list = []\n",
    "\n",
    "for epoch in range(max_epoch) :\n",
    "    idx = np.random.permutation(data_size)\n",
    "    x = x[idx]\n",
    "    t = t[idx]\n",
    "    \n",
    "    for iters in range(max_iters) :\n",
    "        batch_x = x[iters*batch_size : (iters+1)*batch_size]\n",
    "        batch_t = t[iters*batch_size : (iters+1)*batch_size]\n",
    "        \n",
    "        loss = model.forward(batch_x, batch_t)\n",
    "        model.backward()\n",
    "        optimizer.update(model.params, model.grads)\n",
    "        \n",
    "        total_loss += loss\n",
    "        loss_count += 1\n",
    "        \n",
    "        if (iters+1) % 10 == 0 :\n",
    "            avg_loss = total_loss / loss_count\n",
    "            print(epoch+1, iters+1, max_iters, avg_loss)\n",
    "            \n",
    "            loss_list.append(avg_loss)\n",
    "            total_loss, loss_count = 0, 0"
   ]
  },
  {
   "cell_type": "markdown",
   "metadata": {},
   "source": [
    "## GPU 사용\n",
    "- 넘파이와 쿠파이... 쿠파이!"
   ]
  },
  {
   "cell_type": "code",
   "execution_count": null,
   "metadata": {},
   "outputs": [],
   "source": []
  }
 ],
 "metadata": {
  "kernelspec": {
   "display_name": "Python 3",
   "language": "python",
   "name": "python3"
  },
  "language_info": {
   "codemirror_mode": {
    "name": "ipython",
    "version": 3
   },
   "file_extension": ".py",
   "mimetype": "text/x-python",
   "name": "python",
   "nbconvert_exporter": "python",
   "pygments_lexer": "ipython3",
   "version": "3.6.5"
  }
 },
 "nbformat": 4,
 "nbformat_minor": 2
}
