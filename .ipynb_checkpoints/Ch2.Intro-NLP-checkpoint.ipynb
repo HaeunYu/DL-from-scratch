{
 "cells": [
  {
   "cell_type": "markdown",
   "metadata": {},
   "source": [
    "# 자연어 처리\n",
    "- 우리의 말을 컴퓨터에게 이해시키기 위한 기술\n",
    "- 검색 엔진, 기계 번역, 질의응답 시스템, IME, 문장 자동요약, 감정 분석"
   ]
  },
  {
   "cell_type": "markdown",
   "metadata": {},
   "source": [
    "## 시소러스\n",
    "- 단어의 의미를 사람이 정의하는 기법\n",
    "- thesaurus (유의어 사전) 을 활용하는 방법\n",
    "- 뜻이 비슷한 단어가 한 그룹으로 분류되어 있음"
   ]
  },
  {
   "cell_type": "code",
   "execution_count": null,
   "metadata": {},
   "outputs": [],
   "source": []
  }
 ],
 "metadata": {
  "kernelspec": {
   "display_name": "Python 3",
   "language": "python",
   "name": "python3"
  },
  "language_info": {
   "codemirror_mode": {
    "name": "ipython",
    "version": 3
   },
   "file_extension": ".py",
   "mimetype": "text/x-python",
   "name": "python",
   "nbconvert_exporter": "python",
   "pygments_lexer": "ipython3",
   "version": "3.6.5"
  }
 },
 "nbformat": 4,
 "nbformat_minor": 2
}
