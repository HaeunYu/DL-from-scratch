{
 "cells": [
  {
   "cell_type": "markdown",
   "metadata": {},
   "source": [
    "## 추론 기반 기법\n",
    "- 단어의 출현 확률을 예측하여 빈칸에 들어갈 단어 예측\n",
    "\n",
    "### 신경망에서의 단어 처리\n",
    "- 단어를 고정 길이의 벡터로 변환해야 함 (-> one-hot encoding)\n",
    "- 가중치 벡터와의 곱 (matmul)\n",
    "\n",
    "### word2vec\n",
    "- CBOW target & context\n",
    "- input layer : one-hot encoded context for the target word\n",
    "- hidden layer : weights that are updated for better results (-> later becomes words' representation)\n",
    "- output layer : with softmax > percentage for each word\n",
    "\n",
    "- several input layers share one hidden layer\n",
    "\n",
    "https://reniew.github.io/21/"
   ]
  },
  {
   "cell_type": "code",
   "execution_count": 5,
   "metadata": {},
   "outputs": [],
   "source": [
    "import numpy as np"
   ]
  },
  {
   "cell_type": "code",
   "execution_count": 2,
   "metadata": {},
   "outputs": [],
   "source": [
    "def create_contexts_target(corpus, window_size=1) :\n",
    "    target = corpus[window_size:-window_size]\n",
    "    contexts = []\n",
    "    \n",
    "    for idx in range(window_size, len(corpus)-window_size) :\n",
    "        cs = []\n",
    "        \n",
    "        for t in range(-window_size, window_size+1) :\n",
    "            if t == 0 :\n",
    "                continue\n",
    "            cs.append(corpus[idx+t])\n",
    "        contexts.append(cs)\n",
    "        \n",
    "    return np.array(contexts), np.array(target)"
   ]
  },
  {
   "cell_type": "markdown",
   "metadata": {},
   "source": [
    "## 학습 단계\n",
    "\n",
    "#### 1. 단어 id로 변환 contexts & target\n",
    "#### 2. np.array into one-hot encoded array"
   ]
  },
  {
   "cell_type": "code",
   "execution_count": 3,
   "metadata": {},
   "outputs": [],
   "source": [
    "from common.layers import MatMul, SoftmaxWithLoss"
   ]
  },
  {
   "cell_type": "code",
   "execution_count": 10,
   "metadata": {},
   "outputs": [],
   "source": [
    "class SimpleCBOW :\n",
    "    def __init__(self, vocab_size, hidden_size) :\n",
    "        V, H = vocab_size, hidden_size\n",
    "        \n",
    "        W_in = 0.01 * np.random.randn(V, H).astype('f')\n",
    "        W_out = 0.01 * np.random.randn(H, V).astype('f')\n",
    "        \n",
    "        #layers in side the model\n",
    "        #in_layer(n) means n input words (same as window size*2)\n",
    "        self.in_layer0 = MatMul(W_in)\n",
    "        self.in_layer1 = MatMul(W_in)\n",
    "        \n",
    "        self.out_layer = MatMul(W_out)\n",
    "        self.loss_layer = SoftmaxWithLoss()\n",
    "        \n",
    "        layers = [self.in_layer0, self.in_layer1, self.out_layer]\n",
    "        \n",
    "        self.params, self.grads = [], []\n",
    "        \n",
    "        for layer in layers :\n",
    "            # weights from each layer are saved in self.params list as one element\n",
    "            # len(self.params) == number of layers\n",
    "            # same for grads\n",
    "            self.params += layer.params\n",
    "            self.grads += layer.grads\n",
    "            \n",
    "        self.word_vecs = W_in\n",
    "        \n",
    "    def forward(self, contexts, target) :\n",
    "        h0 = self.in_layer0.forward(contexts[:, 0])\n",
    "        h1 = self.in_layer1.forward(contexts[:, 1])\n",
    "        \n",
    "        #mean of two hidden layers' output\n",
    "        h = (h0 + h1) * 0.5\n",
    "        \n",
    "        score = self.out_layer.forward(h)\n",
    "        loss = self.loss_layer.forward(score, target)\n",
    "        \n",
    "        return loss\n",
    "    \n",
    "    def backward(self, dout = 1) :\n",
    "        ds = self.loss_layer.backward(dout)\n",
    "        da = self.out_layer.backward(ds)\n",
    "        da *= 0.5\n",
    "        \n",
    "        self.in_layer1.backward(da)\n",
    "        self.in_layer0.backward(da)\n",
    "        \n",
    "        return None"
   ]
  },
  {
   "cell_type": "code",
   "execution_count": 11,
   "metadata": {},
   "outputs": [
    {
     "data": {
      "text/plain": [
       "<__main__.SimpleCBOW at 0x15b72323550>"
      ]
     },
     "execution_count": 11,
     "metadata": {},
     "output_type": "execute_result"
    }
   ],
   "source": [
    "SimpleCBOW(7, 4)"
   ]
  },
  {
   "cell_type": "markdown",
   "metadata": {},
   "source": [
    "## 학습 코드 구현"
   ]
  },
  {
   "cell_type": "code",
   "execution_count": 12,
   "metadata": {},
   "outputs": [
    {
     "name": "stdout",
     "output_type": "stream",
     "text": [
      "| 에폭 1 |  반복 1 / 1 | 시간 0[s] | 손실 1.79\n",
      "| 에폭 2 |  반복 1 / 1 | 시간 0[s] | 손실 1.79\n",
      "| 에폭 3 |  반복 1 / 1 | 시간 0[s] | 손실 1.79\n",
      "| 에폭 4 |  반복 1 / 1 | 시간 0[s] | 손실 1.79\n",
      "| 에폭 5 |  반복 1 / 1 | 시간 0[s] | 손실 1.79\n"
     ]
    },
    {
     "data": {
      "image/png": "[encoded data removed]",
      "text/plain": [
       "<Figure size 432x288 with 1 Axes>"
      ]
     },
     "metadata": {},
     "output_type": "display_data"
    }
   ],
   "source": [
    "from common.trainer import Trainer\n",
    "from common.optimizer import Adam\n",
    "from common.util import preprocess, create_contexts_target, convert_one_hot\n",
    "\n",
    "window_size = 1\n",
    "hidden_size = 5\n",
    "batch_size = 3\n",
    "max_epoch = 5\n",
    "\n",
    "text = 'You say goodbye and I say hello'\n",
    "corpus, word_to_id, id_to_word = preprocess(text)\n",
    "\n",
    "vocab_size = len(text)\n",
    "corpus, word_to_id, id_to_word = preprocess(text)\n",
    "\n",
    "vocab_size = len(word_to_id)\n",
    "contexts, target = create_contexts_target(corpus, window_size)\n",
    "target = convert_one_hot(target, vocab_size)\n",
    "contexts = convert_one_hot(contexts, vocab_size)\n",
    "\n",
    "model = SimpleCBOW(vocab_size, hidden_size)\n",
    "optimizer = Adam()\n",
    "trainer = Trainer(model, optimizer)\n",
    "\n",
    "trainer.fit(contexts, target, max_epoch, batch_size)\n",
    "trainer.plot()"
   ]
  },
  {
   "cell_type": "markdown",
   "metadata": {},
   "source": [
    "## CBOW 모델과 확률\n",
    "\n",
    "- 사후 확률 (Posteriori Probability) : P(A|B)\n",
    "> probability of A under B\n",
    "\n",
    "### when it comes to 'word2vec'\n",
    "- with window_size 1, the posteriori probability(p.p) is like this;\n",
    "> $$ P(w_t | w_{t+1}, w_{t+1}) $$\n",
    "\n",
    "### loss function of 'word2vec'\n",
    "- in cross-entropy loss equation, the probability changes to negative log likelihood of the p.p above\n",
    "\n",
    "### skip-gram version of 'word2vec'\n",
    "- skip-gram predicts contexts with target word\n",
    "> $$ P(w_{t-1}, w_{t+1} | w_t) $$"
   ]
  },
  {
   "cell_type": "code",
   "execution_count": null,
   "metadata": {},
   "outputs": [],
   "source": []
  }
 ],
 "metadata": {
  "kernelspec": {
   "display_name": "Python 3",
   "language": "python",
   "name": "python3"
  },
  "language_info": {
   "codemirror_mode": {
    "name": "ipython",
    "version": 3
   },
   "file_extension": ".py",
   "mimetype": "text/x-python",
   "name": "python",
   "nbconvert_exporter": "python",
   "pygments_lexer": "ipython3",
   "version": "3.6.5"
  }
 },
 "nbformat": 4,
 "nbformat_minor": 2
}
